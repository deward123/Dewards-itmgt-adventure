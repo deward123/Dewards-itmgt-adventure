{
 "cells": [
  {
   "cell_type": "markdown",
   "metadata": {},
   "source": [
    "192089  \n",
    "Gaborno  \n",
    "2 BS ME  "
   ]
  },
  {
   "cell_type": "markdown",
   "metadata": {},
   "source": [
    "# Problem 1 Social Media Example"
   ]
  },
  {
   "cell_type": "code",
   "execution_count": 2,
   "metadata": {},
   "outputs": [],
   "source": [
    "social_graph = {\n",
    "    \"@bongolpoc\":{\"first_name\":\"Joselito\",\n",
    "                  \"last_name\":\"Olpoc\",\n",
    "                  \"following\":[\n",
    "                  ]\n",
    "    },\n",
    "    \"@joaquin\":  {\"first_name\":\"Joaquin\",\n",
    "                  \"last_name\":\"Gonzales\",\n",
    "                  \"following\":[\n",
    "                      \"@chums\",\"@jobenilagan\"\n",
    "                  ]\n",
    "    },\n",
    "    \"@chums\" : {\"first_name\":\"Matthew\",\n",
    "                \"last_name\":\"Uy\",\n",
    "                \"following\":[\n",
    "                    \"@bongolpoc\",\"@miketan\",\"@rudyang\",\"@joeilagan\"\n",
    "                ]\n",
    "    },\n",
    "    \"@jobenilagan\":{\"first_name\":\"Joben\",\n",
    "                   \"last_name\":\"Ilagan\",\n",
    "                   \"following\":[\n",
    "                    \"@eeebeee\",\"@joeilagan\",\"@chums\",\"@joaquin\"\n",
    "                   ]\n",
    "    },\n",
    "    \"@joeilagan\":{\"first_name\":\"Joe\",\n",
    "                  \"last_name\":\"Ilagan\",\n",
    "                  \"following\":[\n",
    "                    \"@eeebeee\",\"@jobenilagan\",\"@chums\"\n",
    "                  ]\n",
    "    },\n",
    "    \"@eeebeee\":  {\"first_name\":\"Elizabeth\",\n",
    "                  \"last_name\":\"Ilagan\",\n",
    "                  \"following\":[\n",
    "                    \"@jobenilagan\",\"@joeilagan\"\n",
    "                  ]\n",
    "    },\n",
    "}    "
   ]
  },
  {
   "cell_type": "code",
   "execution_count": 24,
   "metadata": {},
   "outputs": [
    {
     "data": {
      "text/plain": [
       "'Friends'"
      ]
     },
     "execution_count": 24,
     "metadata": {},
     "output_type": "execute_result"
    }
   ],
   "source": [
    "def relationship_status(from_member,to_member):\n",
    "\n",
    "    following_from_member = social_graph[from_member][\"following\"]\n",
    "    following_to_member = social_graph[to_member][\"following\"]\n",
    "    #print(following_from_member) used for testing\n",
    "    #print(\"------\") divider\n",
    "    #print(following_to_member) used for testing\n",
    "    if from_member in following_to_member and to_member in following_from_member:\n",
    "        return (\"Friends\")\n",
    "    elif from_member in following_to_member:\n",
    "        return (\"Followed by\")\n",
    "    elif to_member in following_rom_member:\n",
    "        return (\"Follower\")\n",
    "    else:\n",
    "        return (\"None\")\n",
    "    \n",
    "relationship_status(\"@joeilagan\",\"@jobenilagan\")   "
   ]
  },
  {
   "cell_type": "markdown",
   "metadata": {},
   "source": [
    "# Problem 2"
   ]
  },
  {
   "cell_type": "code",
   "execution_count": 18,
   "metadata": {},
   "outputs": [],
   "source": [
    "board1 = [\n",
    "['X','X','O'],\n",
    "['O','X','O'],\n",
    "['O','','X'],\n",
    "]\n",
    "\n",
    "board2 = [\n",
    "['X','X','O'],\n",
    "['O','X','O'],\n",
    "['','O','X'],\n",
    "]\n",
    "\n",
    "board3 = [\n",
    "['O','X','O'],\n",
    "['','O','X'],\n",
    "['X','X','O'],\n",
    "]\n",
    "\n",
    "board4 = [\n",
    "['X','X','X'],\n",
    "['O','X','O'],\n",
    "['O','','O'],\n",
    "]\n",
    "\n",
    "board5 = [\n",
    "['X','X','O'],\n",
    "['O','X','O'],\n",
    "['X','','O'],\n",
    "]\n",
    "\n",
    "board6 = [\n",
    "['X','X','O'],\n",
    "['O','X','O'],\n",
    "['X','',''],\n",
    "]\n"
   ]
  },
  {
   "cell_type": "markdown",
   "metadata": {},
   "source": [
    "\n",
    "check horizontal\n",
    "check vertical\n",
    "check up-down diagonal\n",
    "check down-up diagonal\n",
    "set() for unique elements"
   ]
  },
  {
   "cell_type": "code",
   "execution_count": 63,
   "metadata": {},
   "outputs": [
    {
     "data": {
      "text/plain": [
       "'No winner'"
      ]
     },
     "execution_count": 63,
     "metadata": {},
     "output_type": "execute_result"
    }
   ],
   "source": [
    "def get_winner(board):\n",
    "#vertical       \n",
    "    vertical1 = ([i[0] for i in board])               \n",
    "    if len(set(vertical1)) == 1 and len(vertical1) == 3:\n",
    "        return vertical1[0],\" is the winner\"\n",
    "    \n",
    "    vertical2 = ([i[1] for i in board]) \n",
    "    if len(set(vertical2)) == 1 and len(vertical2) == 3:\n",
    "        return vertical2[0],\" is the winner\"\n",
    "    \n",
    "    vertical3 = ([i[2] for i in board]) \n",
    "    if len(set(vertical3)) == 1 and len(vertical3) == 3:\n",
    "        return vertical3[0],\" is the winner\"\n",
    "#horizontal\n",
    "    horizontal1 = [i[0] for i in zip(*board)]\n",
    "    if len(set(horizontal1)) == 1 and len(horizontal1) == 3:\n",
    "        return (horizontal1[0],\" is the winner\")\n",
    "    \n",
    "    horizontal2 = [i[1] for i in zip(*board)]\n",
    "    if len(set(horizontal2)) == 1 and len(horizontal2) == 3:\n",
    "        return (horizontal2[0],\" is the winner\")\n",
    "    \n",
    "    horizontal3 = [i[2] for i in zip(*board)]\n",
    "    if len(set(horizontal3)) == 1 and len(horizontal3) == 3:\n",
    "        return (horizontal3[0],\" is the winner\")\n",
    "#diagonal updown\n",
    "    updown1 = [board[i][i] for i,v in enumerate(board)]\n",
    "    if len(set(updown1)) == 1 and len(updown1) == 3:\n",
    "        return (updown1[0], \" is the winner\")\n",
    "\n",
    "# diagonal downup\n",
    "    downup1 = [board[2-i][i] for i,v in enumerate(board)]\n",
    "    if len(set(downup1)) == 1 and len(downup1) == 3:\n",
    "        return(downup1[0], \" is the winner\")\n",
    "    else:\n",
    "        return(\"No winner\")\n",
    "\n",
    "\n",
    "\n",
    "get_winner(board6)    "
   ]
  },
  {
   "cell_type": "markdown",
   "metadata": {},
   "source": [
    "## Problem 3\n",
    "UP Diliman->Ateneo de Manila (Estimated Time: 10 mins)  \n",
    "Ateneo de Manila->De La Salle Taft (Estimated Time: 35 mins)  \n",
    "De La Salle Taft->UP Diliman (Estimated Time: 55 mins)  \n",
    "up to delasalle = 10+35 = 45 mins\n",
    "delasalle to ateneo = 55+10 = 65 mins \n",
    "admu to up = 35+55 = 90 mins\n"
   ]
  },
  {
   "cell_type": "code",
   "execution_count": 14,
   "metadata": {},
   "outputs": [],
   "source": [
    "locations = {\n",
    "    \"admu\":{\n",
    "        \"name\":\"Ateneo de Manila University\",\n",
    "        \"latitude\":14.6394557,\n",
    "        \"longitude\":121.0758975        \n",
    "    },\n",
    "    \"upd\":{\n",
    "        \"name\":\"University of the Philippines-Diliman Campus\",\n",
    "        \"latitude\":14.6538519,\n",
    "        \"longitude\":121.0663348\n",
    "    },\n",
    "    \"dlsu\":{\n",
    "        \"name\":\"De La Salle University-Taft\",\n",
    "        \"latitude\":14.5647346,\n",
    "        \"longitude\":120.9909876\n",
    "\n",
    "    }, # <-- Note that Python does not complain about this extra comma. This is perfectly okay.\n",
    "       #     The creators of Python saw that dictionaries tend to be changed a lot, so allowing this is a\n",
    "       #     convenience for developers who need to add elements when needed.\n",
    "}\n",
    "\n",
    "legs = {\n",
    "     (\"upd\",\"admu\"):{\n",
    "         \"travel_time_mins\":10\n",
    "     },\n",
    "     (\"admu\",\"dlsu\"):{\n",
    "         \"travel_time_mins\":35\n",
    "     },\n",
    "     (\"dlsu\",\"upd\"):{\n",
    "         \"travel_time_mins\":55\n",
    "     },\n",
    "    (\"upd\",\"dlsu\"):{\n",
    "        \"travel_time_mins\":45\n",
    "    },\n",
    "    (\"dlsu\",\"admu\"):{\n",
    "        \"travel_time_mins\":65\n",
    "    },\n",
    "    (\"admu\",\"upd\"):{\n",
    "        \"travel_time_mins\":90\n",
    "    }\n",
    "     \n",
    "}\n",
    "\n",
    "def eta(source,destination):\n",
    "    final_eta = legs[source,destination][\"travel_time_mins\"]\n",
    "    return final_eta\n",
    "    \n"
   ]
  },
  {
   "cell_type": "code",
   "execution_count": 15,
   "metadata": {},
   "outputs": [
    {
     "name": "stdout",
     "output_type": "stream",
     "text": [
      "Enter source: admu\n",
      "Enter destination: upd\n",
      "ETA:  90\n"
     ]
    }
   ],
   "source": [
    "source = str(input(\"Enter source: \"))\n",
    "destination = str(input(\"Enter destination: \"))\n",
    "ETA = eta(source,destination)\n",
    "print('ETA: ', ETA)"
   ]
  },
  {
   "cell_type": "code",
   "execution_count": null,
   "metadata": {},
   "outputs": [],
   "source": []
  }
 ],
 "metadata": {
  "kernelspec": {
   "display_name": "Python 3",
   "language": "python",
   "name": "python3"
  },
  "language_info": {
   "codemirror_mode": {
    "name": "ipython",
    "version": 3
   },
   "file_extension": ".py",
   "mimetype": "text/x-python",
   "name": "python",
   "nbconvert_exporter": "python",
   "pygments_lexer": "ipython3",
   "version": "3.7.6"
  }
 },
 "nbformat": 4,
 "nbformat_minor": 4
}
