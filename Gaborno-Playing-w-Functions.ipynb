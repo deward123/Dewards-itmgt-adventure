{
 "cells": [
  {
   "cell_type": "markdown",
   "metadata": {},
   "source": [
    "### 1  \n",
    "Write a function that takes the circumference of a circle as a parameter and returns the area of that circle.  \n",
    "\n",
    "Note: Assume the value of pi is 3.1416  \n",
    "area = pi*r**2  \n",
    "circumference = 2*pi*r  "
   ]
  },
  {
   "cell_type": "code",
   "execution_count": null,
   "metadata": {},
   "outputs": [],
   "source": [
    "def area_of_circle(circumference):\n",
    "    pi = 3.1416\n",
    "    radius = circumference/(2*pi)\n",
    "    area = pi * radius**2\n",
    "    return area\n",
    "\n",
    "area_of_circle(31.42)"
   ]
  },
  {
   "cell_type": "markdown",
   "metadata": {},
   "source": [
    "### 2\n",
    "Write a function that takes a 5-character string as a parameter and returns the string in reverse order.  \n",
    "\n",
    "e.g. reverseString(\"Hello\") -> \"olleH\"  "
   ]
  },
  {
   "cell_type": "code",
   "execution_count": null,
   "metadata": {
    "scrolled": true
   },
   "outputs": [],
   "source": [
    "def reverse(word):\n",
    "    word = word[:: -1]\n",
    "    print(word)\n",
    "reverse(\"hello\")    "
   ]
  },
  {
   "cell_type": "markdown",
   "metadata": {},
   "source": [
    "### 3\n",
    "Write a function that takes a positive integer as input and returns the sum of all positive integers smaller than and including the number itself.  \n",
    "\n",
    "e.g. backAddition(5) -> 1 + 2 + 3 + 4 + 5 -> 15  "
   ]
  },
  {
   "cell_type": "code",
   "execution_count": 25,
   "metadata": {},
   "outputs": [
    {
     "name": "stdout",
     "output_type": "stream",
     "text": [
      "5050.0\n"
     ]
    }
   ],
   "source": [
    "def formula(n):\n",
    "    number = n\n",
    "    total = (number/2)*(1+number)\n",
    "    print(total)\n",
    "    \n",
    "formula(100)"
   ]
  },
  {
   "cell_type": "markdown",
   "metadata": {},
   "source": [
    "### 4\n",
    "5 points (all or nothing)\n",
    "The sum of the squares of the first ten natural numbers is, 12 + 22 + ... + 102 = 385\n",
    "\n",
    "The square of the sum of the first ten natural numbers is, (1 + 2 + ... + 10)2 = 552 = 3025\n",
    "\n",
    "Hence the difference between the sum of the squares of the first ten natural numbers and the square of the sum is 3025 − 385 = 2640.  \n",
    "\n",
    "**This should be difference between square of the sum and squares of the first n natural numbers, for it to be 3025-385 = 2640** \n",
    "        \n",
    "Find the difference between the sum of the squares of the first one hundred natural numbers and the square of the sum.\n",
    "\n",
    "Show code that generates the answer."
   ]
  },
  {
   "cell_type": "code",
   "execution_count": 44,
   "metadata": {},
   "outputs": [
    {
     "name": "stdout",
     "output_type": "stream",
     "text": [
      "25164150\n"
     ]
    }
   ],
   "source": [
    "def squarez(number):\n",
    "    subtotal = 0\n",
    "    x = 0\n",
    "    sum_ofthe_square_of_n = 0\n",
    "    for i in range(number): #square of the sum of the first n natural numbers\n",
    "        sum_of_n = i + 1\n",
    "        subtotal = sum_of_n + subtotal\n",
    "    square_ofthe_sum_of_n = subtotal ** 2\n",
    "\n",
    "    for j in range(number): #sum of the squares of the first ten natural numberrs\n",
    "        x += 1 \n",
    "        squares_of_n = x**2\n",
    "        sum_ofthe_square_of_n = squares_of_n + sum_ofthe_square_of_n\n",
    "        \n",
    "    final_answer =  square_ofthe_sum_of_n  -  sum_ofthe_square_of_n \n",
    "    print(final_answer)\n",
    "\n",
    "#the question is either inverted or you are finding the negative of the answer----  \n",
    "squarez(100)"
   ]
  },
  {
   "cell_type": "markdown",
   "metadata": {},
   "source": [
    "### 5\n",
    "Write a function that allows a self-service Point of Sale system to give you the exact change when you pay in cash.\n",
    "\n",
    "The function should accept the number of cents entered by the caller of the function. It then should display the denominations of the coins that should be given to the buyer. The change should use as few coins as possible. Assume that the Point of Sale system is loaded with 1 cent, 5 cents, 10 cents, 25 cents and 1 peso coins.\n",
    "\n",
    "Write main program code that accepts the number of cents manually through user input and calls the function written above.\n",
    "\n",
    "Input: The program accepts one positive integer, cents, corresponding to the total change to be given by the Point of Sale system.\n",
    "\n",
    "Output: The number of 1 peso, 25 cents, 10 cents, 5 cents and 1 cent coins respectively. There should be one output per line.\n",
    "\n",
    "Sample Input 1:\n",
    "105\n",
    "\n",
    "Sample Output 1\n",
    "1\n",
    "0\n",
    "0\n",
    "1\n",
    "0\n",
    "\n",
    "100, 25 ,10 ,5 1\n",
    "a , b , c , d , e"
   ]
  },
  {
   "cell_type": "code",
   "execution_count": 54,
   "metadata": {},
   "outputs": [
    {
     "name": "stdout",
     "output_type": "stream",
     "text": [
      "0 - 1 peso coin(s)\n",
      "2 - 25 centavo coin(s)\n",
      "1 - 10 centavo coin(s)\n",
      "1 - 5 centavo coin(s)\n",
      "4 - 1 centavo coin(s)\n"
     ]
    }
   ],
   "source": [
    "def point_of_sale_system(cents):\n",
    "    a= 0\n",
    "    b= 0 \n",
    "    c = 0 \n",
    "    d = 0\n",
    "    e = 0\n",
    "    \n",
    "    if cents >= 100:\n",
    "        a = cents // 100\n",
    "        cents = cents % 100\n",
    "        if cents >=25:\n",
    "            b = cents // 25\n",
    "            cents = cents % 25\n",
    "            if cents >=10:\n",
    "                c = cents // 10\n",
    "                cents = cents % 10\n",
    "                if cents >= 5:\n",
    "                    d = cents // 5\n",
    "                    cents = cents % 5\n",
    "                    if cents >= 1:\n",
    "                        e = cents // 1 \n",
    "                        cents = cents % 1              \n",
    "                else: #cents <5\n",
    "                    if cents >= 1:\n",
    "                        e = cents // 1 \n",
    "                        cents = cents % 1\n",
    "            else: #cents < 10\n",
    "                if cents >= 5:\n",
    "                    d = cents // 5\n",
    "                    cents = cents % 5\n",
    "                    if cents >= 1:\n",
    "                        e = cents // 1 \n",
    "                        cents = cents % 1\n",
    "                else: #cents <5\n",
    "                    if cents >= 1:\n",
    "                        e = cents // 1 \n",
    "                        cents = cents % 1\n",
    "        else: #cents < 25    \n",
    "            if cents >=10:\n",
    "                c = cents // 10\n",
    "                cents = cents % 10\n",
    "                if cents >= 5:\n",
    "                    d = cents // 5\n",
    "                    cents = cents % 5\n",
    "                    if cents >= 1:\n",
    "                        e = cents // 1 \n",
    "                        cents = cents % 1\n",
    "                else: #cents <5\n",
    "                    if cents >= 1:\n",
    "                        e = cents // 1 \n",
    "                        cents = cents % 1\n",
    "            else: #cents < 10\n",
    "                if cents >= 5:\n",
    "                    d = cents // 5\n",
    "                    cents = cents % 5\n",
    "                    if cents >= 1:\n",
    "                        e = cents // 1 \n",
    "                        cents = cents % 1\n",
    "                else: #cents <5\n",
    "                    if cents >= 1:\n",
    "                        e = cents // 1 \n",
    "                        cents = cents % 1\n",
    "                        \n",
    "    else: #cents < 100 \n",
    "        if cents >=25:\n",
    "            b = cents // 25\n",
    "            cents = cents % 25\n",
    "            if cents >=10:\n",
    "                c = cents // 10\n",
    "                cents = cents % 10\n",
    "                if cents >= 5:\n",
    "                    d = cents // 5\n",
    "                    cents = cents % 5\n",
    "                    if cents >= 1:\n",
    "                        e = cents // 1 \n",
    "                        cents = cents % 1              \n",
    "                else: #cents <5\n",
    "                    if cents >= 1:\n",
    "                        e = cents // 1 \n",
    "                        cents = cents % 1\n",
    "            else: #cents < 10\n",
    "                if cents >= 5:\n",
    "                    d = cents // 5\n",
    "                    cents = cents % 5\n",
    "                    if cents >= 1:\n",
    "                        e = cents // 1 \n",
    "                        cents = cents % 1\n",
    "                else: #cents <5\n",
    "                    if cents >= 1:\n",
    "                        e = cents // 1 \n",
    "                        cents = cents % 1\n",
    "        else: #cents < 25    \n",
    "            if cents >=10:\n",
    "                c = cents // 10\n",
    "                cents = cents % 10\n",
    "                if cents >= 5:\n",
    "                    d = cents // 5\n",
    "                    cents = cents % 5\n",
    "                    if cents >= 1:\n",
    "                        e = cents // 1 \n",
    "                        cents = cents % 1\n",
    "                else: #cents <5\n",
    "                    if cents >= 1:\n",
    "                        e = cents // 1 \n",
    "                        cents = cents % 1\n",
    "            else: #cents < 10\n",
    "                if cents >= 5:\n",
    "                    d = cents // 5\n",
    "                    cents = cents % 5\n",
    "                    if cents >= 1:\n",
    "                        e = cents // 1 \n",
    "                        cents = cents % 1\n",
    "                else: #cents <5\n",
    "                    if cents >= 1:\n",
    "                        e = cents // 1 \n",
    "                        cents = cents % 1\n",
    "                        \n",
    "        \n",
    "        \n",
    "    print(a, \"- 1 peso coin(s)\")\n",
    "    print(b, \"- 25 centavo coin(s)\")\n",
    "    print(c, \"- 10 centavo coin(s)\")\n",
    "    print(d, \"- 5 centavo coin(s)\")\n",
    "    print(e, \"- 1 centavo coin(s)\")\n",
    "\n",
    "\n",
    "point_of_sale_system(69)"
   ]
  },
  {
   "cell_type": "code",
   "execution_count": null,
   "metadata": {},
   "outputs": [],
   "source": []
  }
 ],
 "metadata": {
  "kernelspec": {
   "display_name": "Python 3",
   "language": "python",
   "name": "python3"
  },
  "language_info": {
   "codemirror_mode": {
    "name": "ipython",
    "version": 3
   },
   "file_extension": ".py",
   "mimetype": "text/x-python",
   "name": "python",
   "nbconvert_exporter": "python",
   "pygments_lexer": "ipython3",
   "version": "3.7.6"
  }
 },
 "nbformat": 4,
 "nbformat_minor": 4
}
