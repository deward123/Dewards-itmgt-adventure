{
 "cells": [
  {
   "cell_type": "markdown",
   "metadata": {},
   "source": [
    "### 1 A Rectangle\n",
    "\n",
    "This function prints a solid rectangle composed of asterisks (\"*\").  \n",
    "This rectangle should be of the specified width and the specified height.  \n",
    "This function does not return any value; it simply prints the rectangle string.  \n"
   ]
  },
  {
   "cell_type": "code",
   "execution_count": 88,
   "metadata": {},
   "outputs": [
    {
     "name": "stdout",
     "output_type": "stream",
     "text": [
      "*******\n",
      "*******\n",
      "*******\n",
      "*******\n",
      "*******\n"
     ]
    }
   ],
   "source": [
    "def print_rectangle(width,height):\n",
    "    i = 0\n",
    "    while (i < height):\n",
    "        j = 0\n",
    "        while (j < width):\n",
    "            print(\"*\", end=\"\")\n",
    "            j += 1\n",
    "        i += 1\n",
    "        print()\n",
    "       \n",
    "print_rectangle(7,5)"
   ]
  },
  {
   "cell_type": "code",
   "execution_count": 165,
   "metadata": {
    "scrolled": true
   },
   "outputs": [
    {
     "name": "stdout",
     "output_type": "stream",
     "text": [
      "**\n",
      "**\n",
      "**\n",
      "**\n",
      "**\n",
      "**\n"
     ]
    }
   ],
   "source": [
    "#using for loops --- just placed this sir, im kind of confused with using for loops and when to use them vs while loops\n",
    "def print_rectangle2(row,column):\n",
    "    for i in range(1, row+1):\n",
    "        for j in range(1,column+1):\n",
    "            print(\"*\", end=\"\")\n",
    "        print()\n",
    "        \n",
    "        \n",
    "print_rectangle2(6,2)"
   ]
  },
  {
   "cell_type": "markdown",
   "metadata": {},
   "source": [
    "### 1 B Hollow Rectangle\n",
    "This function prints a hollow rectangle composed of asterisks (*).  \n",
    "The borders of this rectangle are composed of asterisks (\"*\").  \n",
    "The insides of this rectangle are composed of spaces (\" \").  \n",
    "This rectangle should be of the specified width and the specified height.  \n",
    "This function does not return any value; it simply prints the rectangle string.  "
   ]
  },
  {
   "cell_type": "code",
   "execution_count": 147,
   "metadata": {
    "scrolled": false
   },
   "outputs": [
    {
     "name": "stdout",
     "output_type": "stream",
     "text": [
      "* * * * * * * * * * * * \n",
      "*                     * \n",
      "*                     * \n",
      "* * * * * * * * * * * * \n"
     ]
    }
   ],
   "source": [
    "def hollow_rectangle(width,height):\n",
    "    i = 0\n",
    "    while(i<height):\n",
    "        j = 0\n",
    "        while(j<width):\n",
    "            if j == 0 or j == width-1 or i == 0 or i == height-1:\n",
    "                print(\"*\", end=\" \")\n",
    "            else:\n",
    "                print(\" \", end=\" \")\n",
    "            j +=1\n",
    "        i+=1\n",
    "        print()\n",
    "      \n",
    "hollow_rectangle(12,4)"
   ]
  },
  {
   "cell_type": "code",
   "execution_count": 164,
   "metadata": {
    "scrolled": true
   },
   "outputs": [
    {
     "name": "stdout",
     "output_type": "stream",
     "text": [
      "* * * * * * * * \n",
      "*             * \n",
      "*             * \n",
      "* * * * * * * * \n"
     ]
    }
   ],
   "source": [
    "# using for loops\n",
    "def hollow_rectangle2(width,height):\n",
    "    for i in range(1,height+1):\n",
    "        for j in range(1,width+1):\n",
    "            if (i == 1 or i== height or j== 1 or j == width):\n",
    "                print(\"*\", end=\" \")\n",
    "            else:\n",
    "                print(\" \", end=\" \")\n",
    "        print()\n",
    "            \n",
    "hollow_rectangle2(8,4)"
   ]
  },
  {
   "cell_type": "markdown",
   "metadata": {},
   "source": [
    "### 2 Caesar Cipher\n",
    "ABC,2 --> CDE  \n",
    "each letter has an equivalent number a=0 and so on.  \n",
    "65 = A , 90 = Z\n",
    "91 = A   116 = Z\n",
    "******\n",
    "1. The message is composed entirely of capital letters. There will be no spaces or lower case letters.\n",
    "2. The shift number will be between 0 and 25.\n",
    "3. The alphabet is mapped such that A is 0 and Z is 25."
   ]
  },
  {
   "cell_type": "code",
   "execution_count": 214,
   "metadata": {},
   "outputs": [
    {
     "data": {
      "text/plain": [
       "'G'"
      ]
     },
     "execution_count": 214,
     "metadata": {},
     "output_type": "execute_result"
    }
   ],
   "source": [
    "def caesar_encrypt(message,shift):\n",
    "    result=\"\"\n",
    "    \n",
    "    for i in range(len(message)): #len(message) just to turn str into int for an applicable range\n",
    "        letters = message[i]\n",
    "        result = result + chr((ord(letters)+ shift -65) % 26 + 65)\n",
    "        \n",
    "        output = result    \n",
    "    return output\n",
    "encrypt(\"H\",25)"
   ]
  },
  {
   "cell_type": "markdown",
   "metadata": {},
   "source": [
    "### 3. Vigenere Cipher\n",
    "str, str --> str  \n",
    "   1. You are highly encouraged to use your Caesar cipher function from Item 2 in this item.  \n",
    "   2. You may assume that the key is the same length as the message.  \n",
    "   ALL caps  \n",
    "   "
   ]
  },
  {
   "cell_type": "code",
   "execution_count": 226,
   "metadata": {},
   "outputs": [
    {
     "data": {
      "text/plain": [
       "'KFA'"
      ]
     },
     "execution_count": 226,
     "metadata": {},
     "output_type": "execute_result"
    }
   ],
   "source": [
    "def vigenere_encrypt(message,shift): #yey\n",
    "  \n",
    "    result=\"\"\n",
    "    for i in range(len(message)) and range(len(shift)):\n",
    "        letters = message[i]\n",
    "        base_message2 = ord(letters) - 65\n",
    "        movement = shift[i]\n",
    "        base_shift2 = ord(movement) - 65\n",
    "        result = result + chr(((base_message2+base_shift2) %26 + 65))\n",
    "    \n",
    "    output = result        \n",
    "    return output\n",
    "vigenere_encrypt(\"ABC\",\"KEY\")"
   ]
  },
  {
   "cell_type": "markdown",
   "metadata": {},
   "source": [
    "### 4. Contact Tracing\n",
    "This function simulates tracing an infected person and marking people they come into contact with.  \n",
    "\n",
    "1. The simulation starts with a single infected person (infected_person).  \n",
    "2. The people in this game \"move\". These movements are represented by strings.  \n",
    "3. Each person that an infected person comes into contact with will become infected in the next round.  "
   ]
  },
  {
   "cell_type": "code",
   "execution_count": 271,
   "metadata": {},
   "outputs": [
    {
     "name": "stdout",
     "output_type": "stream",
     "text": [
      "Cna\n"
     ]
    },
    {
     "data": {
      "text/plain": [
       "'Cna'"
      ]
     },
     "execution_count": 271,
     "metadata": {},
     "output_type": "execute_result"
    }
   ],
   "source": [
    "#first try- worked using one movement list - registered patient x and periphery to final list of infected.\n",
    "#however does not work on entire sample movement list\n",
    "sample_initial_infected_person = 'C'\n",
    "sample_movement_list = ['LMcSEDJfZAqbWRUgYeurIdtzKoihOxBmkQjFlpvNwXyPnCasGHVT',\n",
    "                         'ihpSPvorENDadfcyjnqlmgHWxTCKGIUkeOZzMJXYsuAwVbLRQBFt',\n",
    "                         'qepTuMENGwDztARCImQhiJXfnWbcaVvyrLsZjdYKSFBHPoxglOkU']\n",
    "\n",
    "\n",
    "def trace(initial_infected_person, movement_list):\n",
    "    infected= \"\"\n",
    "    for i in range(len(movement_list)):\n",
    "        if movement_list[i] == str(initial_infected_person):\n",
    "            patient_x = initial_infected_person\n",
    "            peripheryleft = movement_list[i-1]\n",
    "            peripheryright = movement_list[i+1]\n",
    "            infected = infected + patient_x +peripheryleft + peripheryright\n",
    "            print(infected)\n",
    "    final_list_of_infected = infected\n",
    "    return final_list_of_infected\n",
    "    \n",
    "    \n",
    "trace(\"C\",\"LMcSEDJfZAqbWRUgYeurIdtzKoihOxBmkQjFlpvNwXyPnCasGHVT\")"
   ]
  },
  {
   "cell_type": "markdown",
   "metadata": {},
   "source": [
    "### trying to use sample movement list\n",
    "i just cant seem to produce an output when using the entirety of the sample movement list\n"
   ]
  },
  {
   "cell_type": "code",
   "execution_count": 257,
   "metadata": {},
   "outputs": [
    {
     "data": {
      "text/plain": [
       "'C'"
      ]
     },
     "execution_count": 257,
     "metadata": {},
     "output_type": "execute_result"
    }
   ],
   "source": [
    "#2nd try\n",
    "sample_initial_infected_person = 'C'\n",
    "sample_movement_list = ['LMcSEDJfZAqbWRUgYeurIdtzKoihOxBmkQjFlpvNwXyPnCasGHVT',\n",
    "                         'ihpSPvorENDadfcyjnqlmgHWxTCKGIUkeOZzMJXYsuAwVbLRQBFt',\n",
    "                         'qepTuMENGwDztARCImQhiJXfnWbcaVvyrLsZjdYKSFBHPoxglOkU']\n",
    "\n",
    "\n",
    "def trace(initial_infected_person,movement_list):\n",
    "    infected= initial_infected_person #this was added instead of infected = \"\"\n",
    "    for i in range(len(movement_list)):\n",
    "        if movement_list[i] == initial_infected_person:\n",
    "            #patient_x = initial_infected_person -- removed\n",
    "            peripheryleft = movement_list[i-1]\n",
    "            peripheryright = movement_list[i+1]\n",
    "            infected = infected + peripheryleft + peripheryright #+ patient_x -- removed\n",
    "            print(infected)\n",
    "    final_list_of_infected = infected\n",
    "    return final_list_of_infected\n",
    "    \n",
    "    \n",
    "trace(\"C\",sample_movement_list)"
   ]
  },
  {
   "cell_type": "code",
   "execution_count": 269,
   "metadata": {},
   "outputs": [
    {
     "name": "stdout",
     "output_type": "stream",
     "text": [
      "CqepTuMENGwDztARCImQhiJXfnWbcaVvyrLsZjdYKSFBHPoxglOkUihpSPvorENDadfcyjnqlmgHWxTCKGIUkeOZzMJXYsuAwVbLRQBFt\n",
      "CqepTuMENGwDztARCImQhiJXfnWbcaVvyrLsZjdYKSFBHPoxglOkUihpSPvorENDadfcyjnqlmgHWxTCKGIUkeOZzMJXYsuAwVbLRQBFtLMcSEDJfZAqbWRUgYeurIdtzKoihOxBmkQjFlpvNwXyPnCasGHVTqepTuMENGwDztARCImQhiJXfnWbcaVvyrLsZjdYKSFBHPoxglOkU\n"
     ]
    },
    {
     "ename": "IndexError",
     "evalue": "list index out of range",
     "output_type": "error",
     "traceback": [
      "\u001b[1;31m---------------------------------------------------------------------------\u001b[0m",
      "\u001b[1;31mIndexError\u001b[0m                                Traceback (most recent call last)",
      "\u001b[1;32m<ipython-input-269-8a4480cae515>\u001b[0m in \u001b[0;36m<module>\u001b[1;34m\u001b[0m\n\u001b[0;32m     19\u001b[0m \u001b[1;33m\u001b[0m\u001b[0m\n\u001b[0;32m     20\u001b[0m \u001b[1;33m\u001b[0m\u001b[0m\n\u001b[1;32m---> 21\u001b[1;33m \u001b[0mtrace\u001b[0m\u001b[1;33m(\u001b[0m\u001b[1;34m\"C\"\u001b[0m\u001b[1;33m,\u001b[0m\u001b[0msample_movement_list\u001b[0m\u001b[1;33m)\u001b[0m\u001b[1;33m\u001b[0m\u001b[1;33m\u001b[0m\u001b[0m\n\u001b[0m\u001b[0;32m     22\u001b[0m \u001b[1;33m\u001b[0m\u001b[0m\n\u001b[0;32m     23\u001b[0m \u001b[1;33m\u001b[0m\u001b[0m\n",
      "\u001b[1;32m<ipython-input-269-8a4480cae515>\u001b[0m in \u001b[0;36mtrace\u001b[1;34m(initial_infected_person, movement_list)\u001b[0m\n\u001b[0;32m     12\u001b[0m         \u001b[1;31m#patient_x = initial_infected_person\u001b[0m\u001b[1;33m\u001b[0m\u001b[1;33m\u001b[0m\u001b[1;33m\u001b[0m\u001b[0m\n\u001b[0;32m     13\u001b[0m         \u001b[0mperipheryleft\u001b[0m \u001b[1;33m=\u001b[0m \u001b[0mmovement_list\u001b[0m\u001b[1;33m[\u001b[0m\u001b[0mi\u001b[0m\u001b[1;33m-\u001b[0m\u001b[1;36m1\u001b[0m\u001b[1;33m]\u001b[0m\u001b[1;33m\u001b[0m\u001b[1;33m\u001b[0m\u001b[0m\n\u001b[1;32m---> 14\u001b[1;33m         \u001b[0mperipheryright\u001b[0m \u001b[1;33m=\u001b[0m \u001b[0mmovement_list\u001b[0m\u001b[1;33m[\u001b[0m\u001b[0mi\u001b[0m\u001b[1;33m+\u001b[0m\u001b[1;36m1\u001b[0m\u001b[1;33m]\u001b[0m\u001b[1;33m\u001b[0m\u001b[1;33m\u001b[0m\u001b[0m\n\u001b[0m\u001b[0;32m     15\u001b[0m         \u001b[0minfected\u001b[0m \u001b[1;33m=\u001b[0m \u001b[0minfected\u001b[0m \u001b[1;33m+\u001b[0m \u001b[0mperipheryleft\u001b[0m \u001b[1;33m+\u001b[0m \u001b[0mperipheryright\u001b[0m \u001b[1;31m#+ patient_x\u001b[0m\u001b[1;33m\u001b[0m\u001b[1;33m\u001b[0m\u001b[0m\n\u001b[0;32m     16\u001b[0m         \u001b[0mprint\u001b[0m\u001b[1;33m(\u001b[0m\u001b[0minfected\u001b[0m\u001b[1;33m)\u001b[0m \u001b[1;31m#output is gone when print is deleted\u001b[0m\u001b[1;33m\u001b[0m\u001b[1;33m\u001b[0m\u001b[0m\n",
      "\u001b[1;31mIndexError\u001b[0m: list index out of range"
     ]
    }
   ],
   "source": [
    "# 3rd try :)) without if statements\n",
    "sample_initial_infected_person = 'C'\n",
    "sample_movement_list = ['LMcSEDJfZAqbWRUgYeurIdtzKoihOxBmkQjFlpvNwXyPnCasGHVT',\n",
    "                         'ihpSPvorENDadfcyjnqlmgHWxTCKGIUkeOZzMJXYsuAwVbLRQBFt',\n",
    "                         'qepTuMENGwDztARCImQhiJXfnWbcaVvyrLsZjdYKSFBHPoxglOkU']\n",
    "\n",
    "\n",
    "def trace(initial_infected_person,movement_list):\n",
    "    infected= initial_infected_person\n",
    "    for i in range(len(movement_list)):\n",
    "        #movement_list[i] == initial_infected_person\n",
    "        #patient_x = initial_infected_person\n",
    "        peripheryleft = movement_list[i-1]\n",
    "        peripheryright = movement_list[i+1]\n",
    "        infected = infected + peripheryleft + peripheryright #+ patient_x\n",
    "        print(infected) #output is gone when print is deleted\n",
    "    final_list_of_infected = infected\n",
    "    return final_list_of_infected\n",
    "    \n",
    "    \n",
    "trace(\"C\",sample_movement_list)\n",
    "\n",
    "\n",
    "#i think it reached the point where everyone became infected and people started being repeated"
   ]
  },
  {
   "cell_type": "code",
   "execution_count": 280,
   "metadata": {},
   "outputs": [
    {
     "name": "stdout",
     "output_type": "stream",
     "text": [
      "CTM\n",
      "CTMCLc\n",
      "CTMCLcCMS\n",
      "CTMCLcCMSCcE\n",
      "CTMCLcCMSCcECSD\n",
      "CTMCLcCMSCcECSDCEJ\n",
      "CTMCLcCMSCcECSDCEJCDf\n",
      "CTMCLcCMSCcECSDCEJCDfCJZ\n",
      "CTMCLcCMSCcECSDCEJCDfCJZCfA\n",
      "CTMCLcCMSCcECSDCEJCDfCJZCfACZq\n",
      "CTMCLcCMSCcECSDCEJCDfCJZCfACZqCAb\n",
      "CTMCLcCMSCcECSDCEJCDfCJZCfACZqCAbCqW\n",
      "CTMCLcCMSCcECSDCEJCDfCJZCfACZqCAbCqWCbR\n",
      "CTMCLcCMSCcECSDCEJCDfCJZCfACZqCAbCqWCbRCWU\n",
      "CTMCLcCMSCcECSDCEJCDfCJZCfACZqCAbCqWCbRCWUCRg\n",
      "CTMCLcCMSCcECSDCEJCDfCJZCfACZqCAbCqWCbRCWUCRgCUY\n",
      "CTMCLcCMSCcECSDCEJCDfCJZCfACZqCAbCqWCbRCWUCRgCUYCge\n",
      "CTMCLcCMSCcECSDCEJCDfCJZCfACZqCAbCqWCbRCWUCRgCUYCgeCYu\n",
      "CTMCLcCMSCcECSDCEJCDfCJZCfACZqCAbCqWCbRCWUCRgCUYCgeCYuCer\n",
      "CTMCLcCMSCcECSDCEJCDfCJZCfACZqCAbCqWCbRCWUCRgCUYCgeCYuCerCuI\n",
      "CTMCLcCMSCcECSDCEJCDfCJZCfACZqCAbCqWCbRCWUCRgCUYCgeCYuCerCuICrd\n",
      "CTMCLcCMSCcECSDCEJCDfCJZCfACZqCAbCqWCbRCWUCRgCUYCgeCYuCerCuICrdCIt\n",
      "CTMCLcCMSCcECSDCEJCDfCJZCfACZqCAbCqWCbRCWUCRgCUYCgeCYuCerCuICrdCItCdz\n",
      "CTMCLcCMSCcECSDCEJCDfCJZCfACZqCAbCqWCbRCWUCRgCUYCgeCYuCerCuICrdCItCdzCtK\n",
      "CTMCLcCMSCcECSDCEJCDfCJZCfACZqCAbCqWCbRCWUCRgCUYCgeCYuCerCuICrdCItCdzCtKCzo\n",
      "CTMCLcCMSCcECSDCEJCDfCJZCfACZqCAbCqWCbRCWUCRgCUYCgeCYuCerCuICrdCItCdzCtKCzoCKi\n",
      "CTMCLcCMSCcECSDCEJCDfCJZCfACZqCAbCqWCbRCWUCRgCUYCgeCYuCerCuICrdCItCdzCtKCzoCKiCoh\n",
      "CTMCLcCMSCcECSDCEJCDfCJZCfACZqCAbCqWCbRCWUCRgCUYCgeCYuCerCuICrdCItCdzCtKCzoCKiCohCiO\n",
      "CTMCLcCMSCcECSDCEJCDfCJZCfACZqCAbCqWCbRCWUCRgCUYCgeCYuCerCuICrdCItCdzCtKCzoCKiCohCiOChx\n",
      "CTMCLcCMSCcECSDCEJCDfCJZCfACZqCAbCqWCbRCWUCRgCUYCgeCYuCerCuICrdCItCdzCtKCzoCKiCohCiOChxCOB\n",
      "CTMCLcCMSCcECSDCEJCDfCJZCfACZqCAbCqWCbRCWUCRgCUYCgeCYuCerCuICrdCItCdzCtKCzoCKiCohCiOChxCOBCxm\n",
      "CTMCLcCMSCcECSDCEJCDfCJZCfACZqCAbCqWCbRCWUCRgCUYCgeCYuCerCuICrdCItCdzCtKCzoCKiCohCiOChxCOBCxmCBk\n",
      "CTMCLcCMSCcECSDCEJCDfCJZCfACZqCAbCqWCbRCWUCRgCUYCgeCYuCerCuICrdCItCdzCtKCzoCKiCohCiOChxCOBCxmCBkCmQ\n",
      "CTMCLcCMSCcECSDCEJCDfCJZCfACZqCAbCqWCbRCWUCRgCUYCgeCYuCerCuICrdCItCdzCtKCzoCKiCohCiOChxCOBCxmCBkCmQCkj\n",
      "CTMCLcCMSCcECSDCEJCDfCJZCfACZqCAbCqWCbRCWUCRgCUYCgeCYuCerCuICrdCItCdzCtKCzoCKiCohCiOChxCOBCxmCBkCmQCkjCQF\n",
      "CTMCLcCMSCcECSDCEJCDfCJZCfACZqCAbCqWCbRCWUCRgCUYCgeCYuCerCuICrdCItCdzCtKCzoCKiCohCiOChxCOBCxmCBkCmQCkjCQFCjl\n",
      "CTMCLcCMSCcECSDCEJCDfCJZCfACZqCAbCqWCbRCWUCRgCUYCgeCYuCerCuICrdCItCdzCtKCzoCKiCohCiOChxCOBCxmCBkCmQCkjCQFCjlCFp\n",
      "CTMCLcCMSCcECSDCEJCDfCJZCfACZqCAbCqWCbRCWUCRgCUYCgeCYuCerCuICrdCItCdzCtKCzoCKiCohCiOChxCOBCxmCBkCmQCkjCQFCjlCFpClv\n",
      "CTMCLcCMSCcECSDCEJCDfCJZCfACZqCAbCqWCbRCWUCRgCUYCgeCYuCerCuICrdCItCdzCtKCzoCKiCohCiOChxCOBCxmCBkCmQCkjCQFCjlCFpClvCpN\n",
      "CTMCLcCMSCcECSDCEJCDfCJZCfACZqCAbCqWCbRCWUCRgCUYCgeCYuCerCuICrdCItCdzCtKCzoCKiCohCiOChxCOBCxmCBkCmQCkjCQFCjlCFpClvCpNCvw\n",
      "CTMCLcCMSCcECSDCEJCDfCJZCfACZqCAbCqWCbRCWUCRgCUYCgeCYuCerCuICrdCItCdzCtKCzoCKiCohCiOChxCOBCxmCBkCmQCkjCQFCjlCFpClvCpNCvwCNX\n",
      "CTMCLcCMSCcECSDCEJCDfCJZCfACZqCAbCqWCbRCWUCRgCUYCgeCYuCerCuICrdCItCdzCtKCzoCKiCohCiOChxCOBCxmCBkCmQCkjCQFCjlCFpClvCpNCvwCNXCwy\n",
      "CTMCLcCMSCcECSDCEJCDfCJZCfACZqCAbCqWCbRCWUCRgCUYCgeCYuCerCuICrdCItCdzCtKCzoCKiCohCiOChxCOBCxmCBkCmQCkjCQFCjlCFpClvCpNCvwCNXCwyCXP\n",
      "CTMCLcCMSCcECSDCEJCDfCJZCfACZqCAbCqWCbRCWUCRgCUYCgeCYuCerCuICrdCItCdzCtKCzoCKiCohCiOChxCOBCxmCBkCmQCkjCQFCjlCFpClvCpNCvwCNXCwyCXPCyn\n",
      "CTMCLcCMSCcECSDCEJCDfCJZCfACZqCAbCqWCbRCWUCRgCUYCgeCYuCerCuICrdCItCdzCtKCzoCKiCohCiOChxCOBCxmCBkCmQCkjCQFCjlCFpClvCpNCvwCNXCwyCXPCynCPC\n",
      "CTMCLcCMSCcECSDCEJCDfCJZCfACZqCAbCqWCbRCWUCRgCUYCgeCYuCerCuICrdCItCdzCtKCzoCKiCohCiOChxCOBCxmCBkCmQCkjCQFCjlCFpClvCpNCvwCNXCwyCXPCynCPCCna\n",
      "CTMCLcCMSCcECSDCEJCDfCJZCfACZqCAbCqWCbRCWUCRgCUYCgeCYuCerCuICrdCItCdzCtKCzoCKiCohCiOChxCOBCxmCBkCmQCkjCQFCjlCFpClvCpNCvwCNXCwyCXPCynCPCCnaCCs\n",
      "CTMCLcCMSCcECSDCEJCDfCJZCfACZqCAbCqWCbRCWUCRgCUYCgeCYuCerCuICrdCItCdzCtKCzoCKiCohCiOChxCOBCxmCBkCmQCkjCQFCjlCFpClvCpNCvwCNXCwyCXPCynCPCCnaCCsCaG\n",
      "CTMCLcCMSCcECSDCEJCDfCJZCfACZqCAbCqWCbRCWUCRgCUYCgeCYuCerCuICrdCItCdzCtKCzoCKiCohCiOChxCOBCxmCBkCmQCkjCQFCjlCFpClvCpNCvwCNXCwyCXPCynCPCCnaCCsCaGCsH\n",
      "CTMCLcCMSCcECSDCEJCDfCJZCfACZqCAbCqWCbRCWUCRgCUYCgeCYuCerCuICrdCItCdzCtKCzoCKiCohCiOChxCOBCxmCBkCmQCkjCQFCjlCFpClvCpNCvwCNXCwyCXPCynCPCCnaCCsCaGCsHCGV\n",
      "CTMCLcCMSCcECSDCEJCDfCJZCfACZqCAbCqWCbRCWUCRgCUYCgeCYuCerCuICrdCItCdzCtKCzoCKiCohCiOChxCOBCxmCBkCmQCkjCQFCjlCFpClvCpNCvwCNXCwyCXPCynCPCCnaCCsCaGCsHCGVCHT\n"
     ]
    },
    {
     "ename": "IndexError",
     "evalue": "string index out of range",
     "output_type": "error",
     "traceback": [
      "\u001b[1;31m---------------------------------------------------------------------------\u001b[0m",
      "\u001b[1;31mIndexError\u001b[0m                                Traceback (most recent call last)",
      "\u001b[1;32m<ipython-input-280-b46ca386b441>\u001b[0m in \u001b[0;36m<module>\u001b[1;34m\u001b[0m\n\u001b[0;32m     22\u001b[0m \u001b[1;33m\u001b[0m\u001b[0m\n\u001b[0;32m     23\u001b[0m \u001b[1;33m\u001b[0m\u001b[0m\n\u001b[1;32m---> 24\u001b[1;33m \u001b[0mtrace\u001b[0m\u001b[1;33m(\u001b[0m\u001b[1;34m\"C\"\u001b[0m\u001b[1;33m,\u001b[0m\u001b[1;34m\"LMcSEDJfZAqbWRUgYeurIdtzKoihOxBmkQjFlpvNwXyPnCasGHVT\"\u001b[0m\u001b[1;33m)\u001b[0m\u001b[1;33m\u001b[0m\u001b[1;33m\u001b[0m\u001b[0m\n\u001b[0m",
      "\u001b[1;32m<ipython-input-280-b46ca386b441>\u001b[0m in \u001b[0;36mtrace\u001b[1;34m(initial_infected_person, movement_list)\u001b[0m\n\u001b[0;32m     15\u001b[0m             \u001b[0mpatient_x\u001b[0m \u001b[1;33m=\u001b[0m \u001b[0minitial_infected_person\u001b[0m\u001b[1;33m\u001b[0m\u001b[1;33m\u001b[0m\u001b[0m\n\u001b[0;32m     16\u001b[0m             \u001b[0mperipheryleft\u001b[0m \u001b[1;33m=\u001b[0m \u001b[0mmovement_list\u001b[0m\u001b[1;33m[\u001b[0m\u001b[0mi\u001b[0m\u001b[1;33m-\u001b[0m\u001b[1;36m1\u001b[0m\u001b[1;33m]\u001b[0m\u001b[1;33m\u001b[0m\u001b[1;33m\u001b[0m\u001b[0m\n\u001b[1;32m---> 17\u001b[1;33m             \u001b[0mperipheryright\u001b[0m \u001b[1;33m=\u001b[0m \u001b[0mmovement_list\u001b[0m\u001b[1;33m[\u001b[0m\u001b[0mi\u001b[0m\u001b[1;33m+\u001b[0m\u001b[1;36m1\u001b[0m\u001b[1;33m]\u001b[0m\u001b[1;33m\u001b[0m\u001b[1;33m\u001b[0m\u001b[0m\n\u001b[0m\u001b[0;32m     18\u001b[0m             \u001b[0minfected\u001b[0m \u001b[1;33m=\u001b[0m \u001b[0minfected\u001b[0m \u001b[1;33m+\u001b[0m \u001b[0mpatient_x\u001b[0m \u001b[1;33m+\u001b[0m\u001b[0mperipheryleft\u001b[0m \u001b[1;33m+\u001b[0m \u001b[0mperipheryright\u001b[0m\u001b[1;33m\u001b[0m\u001b[1;33m\u001b[0m\u001b[0m\n\u001b[0;32m     19\u001b[0m             \u001b[0mprint\u001b[0m\u001b[1;33m(\u001b[0m\u001b[0minfected\u001b[0m\u001b[1;33m)\u001b[0m\u001b[1;33m\u001b[0m\u001b[1;33m\u001b[0m\u001b[0m\n",
      "\u001b[1;31mIndexError\u001b[0m: string index out of range"
     ]
    }
   ],
   "source": [
    "#Trial numbah 4 - revised of the initial trial\n",
    "# still experiences same problems with trial 3 due to list index out of range due to the plus 1\n",
    "\n",
    "\n",
    "sample_initial_infected_person = 'C'\n",
    "sample_movement_list = ['LMcSEDJfZAqbWRUgYeurIdtzKoihOxBmkQjFlpvNwXyPnCasGHVT',\n",
    "                         'ihpSPvorENDadfcyjnqlmgHWxTCKGIUkeOZzMJXYsuAwVbLRQBFt',\n",
    "                         'qepTuMENGwDztARCImQhiJXfnWbcaVvyrLsZjdYKSFBHPoxglOkU']\n",
    "\n",
    "\n",
    "def trace(initial_infected_person, movement_list):\n",
    "    infected= \"\"\n",
    "    for i in range(len(movement_list)):\n",
    "        #if movement_list[i] == str(initial_infected_person): ### removed in comparison to trial 1\n",
    "            patient_x = initial_infected_person\n",
    "            peripheryleft = movement_list[i-1]\n",
    "            peripheryright = movement_list[i+1]\n",
    "            infected = infected + patient_x +peripheryleft + peripheryright\n",
    "            print(infected)\n",
    "    final_list_of_infected = infected\n",
    "    return final_list_of_infected\n",
    "    \n",
    "    \n",
    "trace(\"C\",\"LMcSEDJfZAqbWRUgYeurIdtzKoihOxBmkQjFlpvNwXyPnCasGHVT\")"
   ]
  },
  {
   "cell_type": "code",
   "execution_count": 278,
   "metadata": {},
   "outputs": [
    {
     "ename": "NameError",
     "evalue": "name 'count' is not defined",
     "output_type": "error",
     "traceback": [
      "\u001b[1;31m---------------------------------------------------------------------------\u001b[0m",
      "\u001b[1;31mNameError\u001b[0m                                 Traceback (most recent call last)",
      "\u001b[1;32m<ipython-input-278-791db3b8b860>\u001b[0m in \u001b[0;36m<module>\u001b[1;34m\u001b[0m\n\u001b[1;32m----> 1\u001b[1;33m \u001b[0mcount\u001b[0m\u001b[1;33m(\u001b[0m\u001b[1;34m\"LMcSEDJfZAqbWRUgYeurIdtzKoihOxBmkQjFlpvNwXyPnCasGHVT\"\u001b[0m\u001b[1;33m)\u001b[0m\u001b[1;33m\u001b[0m\u001b[1;33m\u001b[0m\u001b[0m\n\u001b[0m",
      "\u001b[1;31mNameError\u001b[0m: name 'count' is not defined"
     ]
    }
   ],
   "source": [
    "count(\"LMcSEDJfZAqbWRUgYeurIdtzKoihOxBmkQjFlpvNwXyPnCasGHVT\")"
   ]
  },
  {
   "cell_type": "code",
   "execution_count": null,
   "metadata": {},
   "outputs": [],
   "source": []
  }
 ],
 "metadata": {
  "kernelspec": {
   "display_name": "Python 3",
   "language": "python",
   "name": "python3"
  },
  "language_info": {
   "codemirror_mode": {
    "name": "ipython",
    "version": 3
   },
   "file_extension": ".py",
   "mimetype": "text/x-python",
   "name": "python",
   "nbconvert_exporter": "python",
   "pygments_lexer": "ipython3",
   "version": "3.7.6"
  }
 },
 "nbformat": 4,
 "nbformat_minor": 4
}
