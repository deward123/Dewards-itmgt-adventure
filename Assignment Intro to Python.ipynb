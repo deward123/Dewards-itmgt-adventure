{
 "cells": [
  {
   "cell_type": "markdown",
   "metadata": {},
   "source": [
    "Student ID: 192089\n",
    "\n",
    "Surname: Gaborno\n",
    "\n",
    "Year and course: BS ME"
   ]
  },
  {
   "cell_type": "code",
   "execution_count": 5,
   "metadata": {},
   "outputs": [],
   "source": [
    "def three_number_average(one,two,three):\n",
    "    average = (one+two+three)/3\n",
    "    return average"
   ]
  },
  {
   "cell_type": "code",
   "execution_count": 9,
   "metadata": {},
   "outputs": [
    {
     "name": "stdout",
     "output_type": "stream",
     "text": [
      "First number: 1\n",
      "Second number: 2\n",
      "Third number: 3\n",
      "The average is  2.0\n"
     ]
    }
   ],
   "source": [
    "one = float(input(\"First number: \"))\n",
    "two = float(input(\"Second number: \"))\n",
    "three = float(input(\"Third number: \"))\n",
    "average = three_number_average(one,two,three)\n",
    "print(\"The average is \",average)\n"
   ]
  },
  {
   "cell_type": "code",
   "execution_count": null,
   "metadata": {},
   "outputs": [],
   "source": []
  }
 ],
 "metadata": {
  "kernelspec": {
   "display_name": "Python 3",
   "language": "python",
   "name": "python3"
  },
  "language_info": {
   "codemirror_mode": {
    "name": "ipython",
    "version": 3
   },
   "file_extension": ".py",
   "mimetype": "text/x-python",
   "name": "python",
   "nbconvert_exporter": "python",
   "pygments_lexer": "ipython3",
   "version": "3.7.6"
  }
 },
 "nbformat": 4,
 "nbformat_minor": 4
}
